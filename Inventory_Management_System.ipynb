{
  "nbformat": 4,
  "nbformat_minor": 0,
  "metadata": {
    "colab": {
      "name": "Inventory Management System.ipynb",
      "provenance": []
    },
    "kernelspec": {
      "name": "python3",
      "display_name": "Python 3"
    },
    "language_info": {
      "name": "python"
    }
  },
  "cells": [
    {
      "cell_type": "markdown",
      "metadata": {
        "id": "QZtNoGh1RhV6"
      },
      "source": [
        "#  **Open products.json file, which stores records of products**"
      ]
    },
    {
      "cell_type": "code",
      "metadata": {
        "id": "nhb2X6yzR7AJ"
      },
      "source": [
        "# opening the file in read mode\n",
        "fd = open(\"products.json\",'r')"
      ],
      "execution_count": 2,
      "outputs": []
    },
    {
      "cell_type": "markdown",
      "metadata": {
        "id": "Ty999m6FTFjn"
      },
      "source": [
        "# **Reading the data**"
      ]
    },
    {
      "cell_type": "code",
      "metadata": {
        "id": "SNfYmpPqTMpZ"
      },
      "source": [
        "# read variable to read the text inside file\n",
        "read = fd.read()\n",
        "\n",
        "fd.close()"
      ],
      "execution_count": 3,
      "outputs": []
    },
    {
      "cell_type": "code",
      "metadata": {
        "colab": {
          "base_uri": "https://localhost:8080/",
          "height": 137
        },
        "id": "7kl16LdoUcCI",
        "outputId": "4ad67071-fc37-4f1b-8394-993363940edd"
      },
      "source": [
        "read"
      ],
      "execution_count": 4,
      "outputs": [
        {
          "output_type": "execute_result",
          "data": {
            "application/vnd.google.colaboratory.intrinsic+json": {
              "type": "string"
            },
            "text/plain": [
              "'{\"1001\": {\"name\": \"Choco Cake\", \"qn\": 34, \"pr\": 100}, \"1002\": {\"name\": \"Milk Cake\", \"pr\": 700, \"qn\": 100}, \"1003\": {\"name\": \"Drink\", \"pr\": 85, \"qn\": 100}, \"1004\": {\"name\": \"Candy\", \"pr\": 5, \"qn\": 970}, \"1005\": {\"name\": \"Pen\", \"pr\": 20, \"qn\": 100}, \"1006\": {\"name\": \"Phone\", \"pr\": 50000, \"qn\": 7}, \"1007\": {\"name\": \"Mic\", \"pr\": 1500, \"qn\": 100}, \"1008\": {\"name\": \"Case\", \"pr\": 599, \"qn\": 100}, \"1009\": {\"name\": \"Keyboard\", \"pr\": 1999, \"qn\": 100}, \"1010\": {\"name\": \"Mouse\", \"pr\": 500, \"qn\": 40}, \"1011\": {\"name\": \"Pencil\", \"pr\": 50, \"qn\": 100}, \"1012\": {\"name\": \"Charger\", \"pr\": 1499, \"qn\": 10}, \"1013\": {\"name\": \"Earphones\", \"pr\": 1299, \"qn\": 150}, \"1014\": {\"name\": \"Coca Cola\", \"pr\": 45, \"qn\": 200}, \"1015\": {\"name\": \"Bread\", \"pr\": 25, \"qn\": 180}, \"1016\": {\"name\": \"Milk\", \"pr\": 50, \"qn\": 395}, \"1017\": {\"name\": \"Dove soap\", \"pr\": 40, \"qn\": 60}, \"1018\": {\"name\": \"Butter\", \"pr\": 250, \"qn\": 50}, \"1019\": {\"name\": \"Detergent powder\", \"pr\": 300, \"qn\": 100}, \"1021\": {\"name\": \"Basmati Rice\", \"pr\": 90, \"qn\": 117}, \"1022\": {\"name\": \"Wheat Flour\", \"pr\": 40, \"qn\": 500}, \"1023\": {\"name\": \"Salt\", \"pr\": 25, \"qn\": 300}, \"1024\": {\"name\": \"Cookies\", \"pr\": 50, \"qn\": 80}, \"1025\": {\"name\": \"Namkeen\", \"pr\": 160, \"qn\": 30}, \"1026\": {\"name\": \"Chewing Gum\", \"pr\": 10, \"qn\": 20}, \"1027\": {\"name\": \"Frooti\", \"pr\": 30, \"qn\": 300}, \"1028\": {\"name\": \"Sanitizer\", \"pr\": 70, \"qn\": 400}, \"1029\": {\"name\": \"Crayons\", \"pr\": 220, \"qn\": 300}}'"
            ]
          },
          "metadata": {},
          "execution_count": 4
        }
      ]
    },
    {
      "cell_type": "markdown",
      "metadata": {
        "id": "n28_OX9qUoXv"
      },
      "source": [
        "# **Import the JSON module**"
      ]
    },
    {
      "cell_type": "code",
      "metadata": {
        "id": "r1BktW5CU0nL"
      },
      "source": [
        "import json\n",
        "\n",
        "# The loads() method allows us to convert a JSON string into an equivalent python object (dictionary)\n",
        "\n",
        "# read mode\n",
        "products = json.loads(read)"
      ],
      "execution_count": 5,
      "outputs": []
    },
    {
      "cell_type": "code",
      "metadata": {
        "colab": {
          "base_uri": "https://localhost:8080/"
        },
        "id": "WTb8W4YGVDsO",
        "outputId": "9bce32b5-11c2-417c-e360-bfcc30a0f1a5"
      },
      "source": [
        " # display all the records present inside the products.json file\n",
        " products"
      ],
      "execution_count": 6,
      "outputs": [
        {
          "output_type": "execute_result",
          "data": {
            "text/plain": [
              "{'1001': {'name': 'Choco Cake', 'pr': 100, 'qn': 34},\n",
              " '1002': {'name': 'Milk Cake', 'pr': 700, 'qn': 100},\n",
              " '1003': {'name': 'Drink', 'pr': 85, 'qn': 100},\n",
              " '1004': {'name': 'Candy', 'pr': 5, 'qn': 970},\n",
              " '1005': {'name': 'Pen', 'pr': 20, 'qn': 100},\n",
              " '1006': {'name': 'Phone', 'pr': 50000, 'qn': 7},\n",
              " '1007': {'name': 'Mic', 'pr': 1500, 'qn': 100},\n",
              " '1008': {'name': 'Case', 'pr': 599, 'qn': 100},\n",
              " '1009': {'name': 'Keyboard', 'pr': 1999, 'qn': 100},\n",
              " '1010': {'name': 'Mouse', 'pr': 500, 'qn': 40},\n",
              " '1011': {'name': 'Pencil', 'pr': 50, 'qn': 100},\n",
              " '1012': {'name': 'Charger', 'pr': 1499, 'qn': 10},\n",
              " '1013': {'name': 'Earphones', 'pr': 1299, 'qn': 150},\n",
              " '1014': {'name': 'Coca Cola', 'pr': 45, 'qn': 200},\n",
              " '1015': {'name': 'Bread', 'pr': 25, 'qn': 180},\n",
              " '1016': {'name': 'Milk', 'pr': 50, 'qn': 395},\n",
              " '1017': {'name': 'Dove soap', 'pr': 40, 'qn': 60},\n",
              " '1018': {'name': 'Butter', 'pr': 250, 'qn': 50},\n",
              " '1019': {'name': 'Detergent powder', 'pr': 300, 'qn': 100},\n",
              " '1021': {'name': 'Basmati Rice', 'pr': 90, 'qn': 117},\n",
              " '1022': {'name': 'Wheat Flour', 'pr': 40, 'qn': 500},\n",
              " '1023': {'name': 'Salt', 'pr': 25, 'qn': 300},\n",
              " '1024': {'name': 'Cookies', 'pr': 50, 'qn': 80},\n",
              " '1025': {'name': 'Namkeen', 'pr': 160, 'qn': 30},\n",
              " '1026': {'name': 'Chewing Gum', 'pr': 10, 'qn': 20},\n",
              " '1027': {'name': 'Frooti', 'pr': 30, 'qn': 300},\n",
              " '1028': {'name': 'Sanitizer', 'pr': 70, 'qn': 400},\n",
              " '1029': {'name': 'Crayons', 'pr': 220, 'qn': 300}}"
            ]
          },
          "metadata": {},
          "execution_count": 6
        }
      ]
    },
    {
      "cell_type": "markdown",
      "metadata": {
        "id": "6H_wM4xBVg45"
      },
      "source": [
        "# **Adding a new item to the inventory**"
      ]
    },
    {
      "cell_type": "code",
      "metadata": {
        "colab": {
          "base_uri": "https://localhost:8080/"
        },
        "id": "i8G4XsXFVvD5",
        "outputId": "d7d858ff-f673-4cb4-c299-eab36c34c9ef"
      },
      "source": [
        "# To fetch the last saved product id in the JSON File\n",
        "last = sorted(dict.keys(products))[-1]\n",
        "next = int(last)\n",
        "print(\"Please note last item id is:\",last)\n",
        "print(\"Enter product id as:\",next+1)\n",
        "print(\"******************************************\\n\")\n",
        "\n",
        "# Enter data to add new item\n",
        "prod_id = str(input(\"Enter Product Id:\"))\n",
        "\n",
        "# 1st condition: If the product id exist then the record will not be accepted \n",
        "if prod_id in products.keys():\n",
        "    print(\"-------------------------------------------------------------------\")    \n",
        "    print(f\"The record already exists, ID:'{prod_id}' \")\n",
        "    print(\"Try again '\\U0001F641' \")\n",
        "    print(\"-------------------------------------------------------------------\")\n",
        "\n",
        "    # Previous JSON records will be overwritten      \n",
        "    js = json.dumps(products)\n",
        "    fd = open(\"products.json\",'w') \n",
        "    fd.write(js)\n",
        "    fd.close()\n",
        "    \n",
        "# 2nd condition: If the product id is unique then the record will be accepted\n",
        "elif prod_id not in products.keys():    \n",
        "    name = str(input(\"Enter Item Name:\"))\n",
        "    pr = int(input(\"Enter Price:\"))\n",
        "    qn = int(input(\"Enter Quantity:\"))\n",
        "        \n",
        "    products[prod_id] = {'name': name, 'pr': pr, 'qn': qn}\n",
        "    \n",
        "    # Saving the new record into the JSON file\n",
        "    js = json.dumps(products)\n",
        "    print(\"\\n******************************************\")\n",
        "    print(name,\"added successfully to the file\")\n",
        "    print(\"******************************************\")\n",
        "       \n",
        "\n",
        "# Write mode will overwrite the whole file and save the records\n",
        "fd = open(\"products.json\",'w') \n",
        "fd.write(js)\n",
        "fd.close()"
      ],
      "execution_count": 7,
      "outputs": [
        {
          "output_type": "stream",
          "name": "stdout",
          "text": [
            "Please note last item id is: 1029\n",
            "Enter product id as: 1030\n",
            "******************************************\n",
            "\n",
            "Enter Product Id:1030\n",
            "Enter Item Name:Maggi\n",
            "Enter Price:20\n",
            "Enter Quantity:22\n",
            "\n",
            "******************************************\n",
            "Maggi added successfully to the file\n",
            "******************************************\n"
          ]
        }
      ]
    },
    {
      "cell_type": "markdown",
      "metadata": {
        "id": "zp-vlxcdbYTF"
      },
      "source": [
        "# **Checking the updated inventory**"
      ]
    },
    {
      "cell_type": "code",
      "metadata": {
        "colab": {
          "base_uri": "https://localhost:8080/"
        },
        "id": "skkCnvb7bfr9",
        "outputId": "46b7293a-18cd-437d-fe2f-a3a44ce7d8b1"
      },
      "source": [
        "products"
      ],
      "execution_count": 8,
      "outputs": [
        {
          "output_type": "execute_result",
          "data": {
            "text/plain": [
              "{'1001': {'name': 'Choco Cake', 'pr': 100, 'qn': 34},\n",
              " '1002': {'name': 'Milk Cake', 'pr': 700, 'qn': 100},\n",
              " '1003': {'name': 'Drink', 'pr': 85, 'qn': 100},\n",
              " '1004': {'name': 'Candy', 'pr': 5, 'qn': 970},\n",
              " '1005': {'name': 'Pen', 'pr': 20, 'qn': 100},\n",
              " '1006': {'name': 'Phone', 'pr': 50000, 'qn': 7},\n",
              " '1007': {'name': 'Mic', 'pr': 1500, 'qn': 100},\n",
              " '1008': {'name': 'Case', 'pr': 599, 'qn': 100},\n",
              " '1009': {'name': 'Keyboard', 'pr': 1999, 'qn': 100},\n",
              " '1010': {'name': 'Mouse', 'pr': 500, 'qn': 40},\n",
              " '1011': {'name': 'Pencil', 'pr': 50, 'qn': 100},\n",
              " '1012': {'name': 'Charger', 'pr': 1499, 'qn': 10},\n",
              " '1013': {'name': 'Earphones', 'pr': 1299, 'qn': 150},\n",
              " '1014': {'name': 'Coca Cola', 'pr': 45, 'qn': 200},\n",
              " '1015': {'name': 'Bread', 'pr': 25, 'qn': 180},\n",
              " '1016': {'name': 'Milk', 'pr': 50, 'qn': 395},\n",
              " '1017': {'name': 'Dove soap', 'pr': 40, 'qn': 60},\n",
              " '1018': {'name': 'Butter', 'pr': 250, 'qn': 50},\n",
              " '1019': {'name': 'Detergent powder', 'pr': 300, 'qn': 100},\n",
              " '1021': {'name': 'Basmati Rice', 'pr': 90, 'qn': 117},\n",
              " '1022': {'name': 'Wheat Flour', 'pr': 40, 'qn': 500},\n",
              " '1023': {'name': 'Salt', 'pr': 25, 'qn': 300},\n",
              " '1024': {'name': 'Cookies', 'pr': 50, 'qn': 80},\n",
              " '1025': {'name': 'Namkeen', 'pr': 160, 'qn': 30},\n",
              " '1026': {'name': 'Chewing Gum', 'pr': 10, 'qn': 20},\n",
              " '1027': {'name': 'Frooti', 'pr': 30, 'qn': 300},\n",
              " '1028': {'name': 'Sanitizer', 'pr': 70, 'qn': 400},\n",
              " '1029': {'name': 'Crayons', 'pr': 220, 'qn': 300},\n",
              " '1030': {'name': 'Maggi', 'pr': 20, 'qn': 22}}"
            ]
          },
          "metadata": {},
          "execution_count": 8
        }
      ]
    },
    {
      "cell_type": "markdown",
      "metadata": {
        "id": "8ydR8zUBbzdQ"
      },
      "source": [
        "# **Delete an item from the inventory**"
      ]
    },
    {
      "cell_type": "code",
      "metadata": {
        "colab": {
          "base_uri": "https://localhost:8080/"
        },
        "id": "ti-pM5ycb6Js",
        "outputId": "05830656-0211-4b62-d9b6-2c61bbc57b2d"
      },
      "source": [
        "print(\"Delete a record from JSON File:- \")\n",
        "\n",
        "# Accept the product id\n",
        "d = input(\"\\nEnter product id:\")\n",
        "\n",
        "# condition 1: If the product id exist then delete the record successfully\n",
        "if d in products.keys():\n",
        "    del products[d]\n",
        "    print(\"-------------------------------------------------------------------\")    \n",
        "    print(f\"The Product Id {d} record deleted successfully!!!\")\n",
        "    print(\"-------------------------------------------------------------------\")\n",
        "\n",
        "# condition 2: Else show message that product id record does not exist\n",
        "elif d not in products.keys():\n",
        "    print(\"-------------------------------------------------------------------\")\n",
        "    print(f\"The Product Id record: {d} does not exists please recheck it !!!\")\n",
        "    print(\"RECORD DELETION UNSUCCESSFUL.\")\n",
        "    print(\"-------------------------------------------------------------------\")"
      ],
      "execution_count": 9,
      "outputs": [
        {
          "output_type": "stream",
          "name": "stdout",
          "text": [
            "Delete a record from JSON File:- \n",
            "\n",
            "Enter product id:1019\n",
            "-------------------------------------------------------------------\n",
            "The Product Id 1019 record deleted successfully!!!\n",
            "-------------------------------------------------------------------\n"
          ]
        }
      ]
    },
    {
      "cell_type": "markdown",
      "metadata": {
        "id": "lOpNgbkLu_o1"
      },
      "source": [
        "# **Updating the products.json file**"
      ]
    },
    {
      "cell_type": "code",
      "metadata": {
        "id": "WyspCCUOvE5C"
      },
      "source": [
        "# update the file using dumps() method\n",
        "js = json.dumps(products)\n",
        "\n",
        "# write mode will make the data inside new_record will be overwritten\n",
        "\n",
        "fd = open(\"products.json\",'w')\n",
        "fd.write(js)\n",
        "fd.close()"
      ],
      "execution_count": 10,
      "outputs": []
    },
    {
      "cell_type": "markdown",
      "metadata": {
        "id": "hsc6HXcqj483"
      },
      "source": [
        "# **Inventory after updation**"
      ]
    },
    {
      "cell_type": "code",
      "metadata": {
        "colab": {
          "base_uri": "https://localhost:8080/"
        },
        "id": "z4nNjMJpj7_o",
        "outputId": "adc62811-5642-4adc-cef0-89433ba4add1"
      },
      "source": [
        "products"
      ],
      "execution_count": 11,
      "outputs": [
        {
          "output_type": "execute_result",
          "data": {
            "text/plain": [
              "{'1001': {'name': 'Choco Cake', 'pr': 100, 'qn': 34},\n",
              " '1002': {'name': 'Milk Cake', 'pr': 700, 'qn': 100},\n",
              " '1003': {'name': 'Drink', 'pr': 85, 'qn': 100},\n",
              " '1004': {'name': 'Candy', 'pr': 5, 'qn': 970},\n",
              " '1005': {'name': 'Pen', 'pr': 20, 'qn': 100},\n",
              " '1006': {'name': 'Phone', 'pr': 50000, 'qn': 7},\n",
              " '1007': {'name': 'Mic', 'pr': 1500, 'qn': 100},\n",
              " '1008': {'name': 'Case', 'pr': 599, 'qn': 100},\n",
              " '1009': {'name': 'Keyboard', 'pr': 1999, 'qn': 100},\n",
              " '1010': {'name': 'Mouse', 'pr': 500, 'qn': 40},\n",
              " '1011': {'name': 'Pencil', 'pr': 50, 'qn': 100},\n",
              " '1012': {'name': 'Charger', 'pr': 1499, 'qn': 10},\n",
              " '1013': {'name': 'Earphones', 'pr': 1299, 'qn': 150},\n",
              " '1014': {'name': 'Coca Cola', 'pr': 45, 'qn': 200},\n",
              " '1015': {'name': 'Bread', 'pr': 25, 'qn': 180},\n",
              " '1016': {'name': 'Milk', 'pr': 50, 'qn': 395},\n",
              " '1017': {'name': 'Dove soap', 'pr': 40, 'qn': 60},\n",
              " '1018': {'name': 'Butter', 'pr': 250, 'qn': 50},\n",
              " '1021': {'name': 'Basmati Rice', 'pr': 90, 'qn': 117},\n",
              " '1022': {'name': 'Wheat Flour', 'pr': 40, 'qn': 500},\n",
              " '1023': {'name': 'Salt', 'pr': 25, 'qn': 300},\n",
              " '1024': {'name': 'Cookies', 'pr': 50, 'qn': 80},\n",
              " '1025': {'name': 'Namkeen', 'pr': 160, 'qn': 30},\n",
              " '1026': {'name': 'Chewing Gum', 'pr': 10, 'qn': 20},\n",
              " '1027': {'name': 'Frooti', 'pr': 30, 'qn': 300},\n",
              " '1028': {'name': 'Sanitizer', 'pr': 70, 'qn': 400},\n",
              " '1029': {'name': 'Crayons', 'pr': 220, 'qn': 300},\n",
              " '1030': {'name': 'Maggi', 'pr': 20, 'qn': 22}}"
            ]
          },
          "metadata": {},
          "execution_count": 11
        }
      ]
    },
    {
      "cell_type": "markdown",
      "metadata": {
        "id": "8FO1i8EhlDmm"
      },
      "source": [
        "# **Import modules to show *Time* and *Date* details on the bill**"
      ]
    },
    {
      "cell_type": "code",
      "metadata": {
        "id": "PVMRF8XVllAT"
      },
      "source": [
        "# Time\n",
        "from datetime import datetime\n",
        "now = datetime.now()\n",
        "curr_time = now.strftime(\"%H:%M:%S\")\n",
        "\n",
        "# Date\n",
        "from datetime import date\n",
        "today = date.today()\n",
        "curr_date = today.strftime(\"%d/%m/%Y\")"
      ],
      "execution_count": 12,
      "outputs": []
    },
    {
      "cell_type": "markdown",
      "metadata": {
        "id": "G1YLDdn-mGBH"
      },
      "source": [
        "# **Generating the Purchase Bill**"
      ]
    },
    {
      "cell_type": "code",
      "metadata": {
        "colab": {
          "base_uri": "https://localhost:8080/"
        },
        "id": "AQnfs-fXmL0a",
        "outputId": "9803b276-0c8a-4192-8542-90344bbabb40"
      },
      "source": [
        "# accepting the product id and quantity of products\n",
        "prod_id  = str(input(\"Enter the product_id: \"))\n",
        "\n",
        "if prod_id not in products:\n",
        "    print(\"Record does not exist!!!\")\n",
        "    print(\"Please Try Again!!!\")\n",
        "\n",
        "elif prod_id in products:\n",
        "    qn = int(input(\"Enter number of items(quantity): \"))\n",
        "\n",
        "    # Bill details of shop and also date and time details\n",
        "    print(\"\\n\\t****************************************\")\n",
        "    print(\"\\t\\t     APNI DUKAAN\")\n",
        "    print(\"\\t\\t    Bahraich 271801\")\n",
        "    print(\"\\t\\tContact No. 079-5252209\")\n",
        "    print(\"\\t       Time of Purchase:\",curr_time)\n",
        "    print(\"\\t      Date of Purchase:\",curr_date)\n",
        "    print(\"\\t****************************************\")\n",
        "\n",
        "\n",
        "    # calculating 3% GST on product\n",
        "    g = 0.03 * products[prod_id]['pr'] * qn\n",
        "    # converting gst to type string\n",
        "    gst = str(g)\n",
        "    # upto 2 floating decimal values\n",
        "    gst = gst[0:4]\n",
        "\n",
        "    print(\"\\nProduct\\t\\tPrice\\t\\tQuantity\\tGST\")\n",
        "    print(products[prod_id]['name'], end=' ')\n",
        "    print(\"\\t\\t\",products[prod_id]['pr'], end=' ')\n",
        "    print(\"\\t\\t\", qn, end=' ')\n",
        "    print(\"\\t\", gst)\n",
        "\n",
        "    # converting gst top floating point number\n",
        "    gst = float(gst)\n",
        "\n",
        "\n",
        "    print(\"\\n   Please note that 3% GST is applied on your bill.\\n\")\n",
        "    print(\"\\n******************************************\")\n",
        "    print(\"Billing Amount: Rs\", products[prod_id]['pr'] * qn + gst)\n",
        "    print(\"******************************************\")\n",
        "\n",
        "    print(\"Thank you for shopping!!!\")\n",
        "    print(\"\\n Visit Again \\U0001F600 \")\n",
        "\n",
        "    # update the quantity of product after purchase\n",
        "    products[prod_id]['qn'] = products[prod_id]['qn'] - qn"
      ],
      "execution_count": 13,
      "outputs": [
        {
          "output_type": "stream",
          "name": "stdout",
          "text": [
            "Enter the product_id: 1002\n",
            "Enter number of items(quantity): 3\n",
            "\n",
            "\t****************************************\n",
            "\t\t     APNI DUKAAN\n",
            "\t\t    Bahraich 271801\n",
            "\t\tContact No. 079-5252209\n",
            "\t       Time of Purchase: 05:07:35\n",
            "\t      Date of Purchase: 21/09/2021\n",
            "\t****************************************\n",
            "\n",
            "Product\t\tPrice\t\tQuantity\tGST\n",
            "Milk Cake \t\t 700 \t\t 3 \t 63.0\n",
            "\n",
            "   Please note that 3% GST is applied on your bill.\n",
            "\n",
            "\n",
            "******************************************\n",
            "Billing Amount: Rs 2163.0\n",
            "******************************************\n",
            "Thank you for shopping!!!\n",
            "\n",
            " Visit Again 😀 \n"
          ]
        }
      ]
    },
    {
      "cell_type": "markdown",
      "metadata": {
        "id": "KmD_m1Kvwnqu"
      },
      "source": [
        "# **Update inventory after purchase**"
      ]
    },
    {
      "cell_type": "code",
      "metadata": {
        "id": "iSRl2X5MwuEJ"
      },
      "source": [
        "js = json.dumps(products)\n",
        "\n",
        "fd = open(\"products.json\",'w')\n",
        "fd.write(js)\n",
        "fd.close()"
      ],
      "execution_count": 14,
      "outputs": []
    },
    {
      "cell_type": "markdown",
      "metadata": {
        "id": "CTe1dLjvw5V_"
      },
      "source": [
        "# **Sales JSON**"
      ]
    },
    {
      "cell_type": "code",
      "metadata": {
        "colab": {
          "base_uri": "https://localhost:8080/"
        },
        "id": "eWdliN6PxAQ9",
        "outputId": "1c4ec606-5896-46fe-8438-e110acd773b1"
      },
      "source": [
        "{'prod' : prod_id, 'qn' : qn, 'amount': products[prod_id]['pr'] * qn + gst}"
      ],
      "execution_count": 16,
      "outputs": [
        {
          "output_type": "execute_result",
          "data": {
            "text/plain": [
              "{'amount': 2163.0, 'prod': '1002', 'qn': 3}"
            ]
          },
          "metadata": {},
          "execution_count": 16
        }
      ]
    },
    {
      "cell_type": "code",
      "metadata": {
        "id": "ygj2AC49xkNQ"
      },
      "source": [
        "sales = {1 : {'prod' : prod_id, 'qn' : qn, 'amount': products[prod_id]['pr'] * qn + gst}}"
      ],
      "execution_count": 19,
      "outputs": []
    },
    {
      "cell_type": "markdown",
      "metadata": {
        "id": "UogDniaSxzmi"
      },
      "source": [
        "# **Creating Sales File**"
      ]
    },
    {
      "cell_type": "code",
      "metadata": {
        "id": "Xe9I49pmx2Nn"
      },
      "source": [
        "sale = json.dumps(sales)"
      ],
      "execution_count": 20,
      "outputs": []
    },
    {
      "cell_type": "code",
      "metadata": {
        "id": "YDdK6nTox8ia"
      },
      "source": [
        "# writing the records into file\n",
        "fd = open(\"sales.json\",\"w\")\n",
        "\n",
        "r = fd.write(sale)\n",
        "\n",
        "fd.close()"
      ],
      "execution_count": 21,
      "outputs": []
    },
    {
      "cell_type": "markdown",
      "metadata": {
        "id": "7CtNAtI5yFfy"
      },
      "source": [
        "# **Reading the record saved inside sales.json**"
      ]
    },
    {
      "cell_type": "code",
      "metadata": {
        "id": "BPfGjcFdyH8M"
      },
      "source": [
        "f = open(\"sales.json\",\"r\")\n",
        "\n",
        "# read variable to read the text inside file\n",
        "r = f.read()\n",
        "\n",
        "f.close()"
      ],
      "execution_count": 22,
      "outputs": []
    },
    {
      "cell_type": "code",
      "metadata": {
        "colab": {
          "base_uri": "https://localhost:8080/",
          "height": 35
        },
        "id": "UhL_m7EsyM8g",
        "outputId": "c1ba5ce3-1a9e-457a-fe9a-5f13b6832f0a"
      },
      "source": [
        "r"
      ],
      "execution_count": 23,
      "outputs": [
        {
          "output_type": "execute_result",
          "data": {
            "application/vnd.google.colaboratory.intrinsic+json": {
              "type": "string"
            },
            "text/plain": [
              "'{\"1\": {\"prod\": \"1002\", \"qn\": 3, \"amount\": 2163.0}}'"
            ]
          },
          "metadata": {},
          "execution_count": 23
        }
      ]
    },
    {
      "cell_type": "code",
      "metadata": {
        "id": "RzYpgjtAyUNy"
      },
      "source": [
        "# The loads() method allows us to convert a JSON string into an equivalent python object (dictionary)\n",
        "\n",
        "# read mode\n",
        "r = json.loads(r)"
      ],
      "execution_count": 24,
      "outputs": []
    },
    {
      "cell_type": "code",
      "metadata": {
        "colab": {
          "base_uri": "https://localhost:8080/"
        },
        "id": "UyvsyreIyf7J",
        "outputId": "49631cc2-1bb3-4ffb-c149-d24f3d6223ef"
      },
      "source": [
        "r"
      ],
      "execution_count": 25,
      "outputs": [
        {
          "output_type": "execute_result",
          "data": {
            "text/plain": [
              "{'1': {'amount': 2163.0, 'prod': '1002', 'qn': 3}}"
            ]
          },
          "metadata": {},
          "execution_count": 25
        }
      ]
    }
  ]
}